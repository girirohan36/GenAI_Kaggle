{
 "cells": [
  {
   "cell_type": "markdown",
   "id": "5f207185",
   "metadata": {
    "id": "jkxRSYjzA1oX",
    "papermill": {
     "duration": 0.012204,
     "end_time": "2024-11-24T05:19:43.523493",
     "exception": false,
     "start_time": "2024-11-24T05:19:43.511289",
     "status": "completed"
    },
    "tags": []
   },
   "source": [
    "##### Copyright 2024 Google LLC."
   ]
  },
  {
   "cell_type": "code",
   "execution_count": 1,
   "id": "61f2e238",
   "metadata": {
    "cellView": "form",
    "execution": {
     "iopub.execute_input": "2024-11-24T05:19:43.549032Z",
     "iopub.status.busy": "2024-11-24T05:19:43.548550Z",
     "iopub.status.idle": "2024-11-24T05:19:43.555062Z",
     "shell.execute_reply": "2024-11-24T05:19:43.554183Z"
    },
    "id": "5u5OZ2ShA3BA",
    "jupyter": {
     "source_hidden": true
    },
    "papermill": {
     "duration": 0.022371,
     "end_time": "2024-11-24T05:19:43.557098",
     "exception": false,
     "start_time": "2024-11-24T05:19:43.534727",
     "status": "completed"
    },
    "tags": []
   },
   "outputs": [],
   "source": [
    "# @title Licensed under the Apache License, Version 2.0 (the \"License\");\n",
    "# you may not use this file except in compliance with the License.\n",
    "# You may obtain a copy of the License at\n",
    "#\n",
    "# https://www.apache.org/licenses/LICENSE-2.0\n",
    "#\n",
    "# Unless required by applicable law or agreed to in writing, software\n",
    "# distributed under the License is distributed on an \"AS IS\" BASIS,\n",
    "# WITHOUT WARRANTIES OR CONDITIONS OF ANY KIND, either express or implied.\n",
    "# See the License for the specific language governing permissions and\n",
    "# limitations under the License."
   ]
  },
  {
   "cell_type": "markdown",
   "id": "9e4b2c51",
   "metadata": {
    "id": "csNPnkuCobmG",
    "papermill": {
     "duration": 0.010844,
     "end_time": "2024-11-24T05:19:43.579422",
     "exception": false,
     "start_time": "2024-11-24T05:19:43.568578",
     "status": "completed"
    },
    "tags": []
   },
   "source": [
    "# Day 1 - Prompting\n",
    "\n",
    "Welcome to the Kaggle 5-day Generative AI course!\n",
    "\n",
    "This notebook will show you how to get started with the Gemini API and walk you through some of the example prompts and techniques that you can also read about in the Prompting whitepaper. You don't need to read the whitepaper to use this notebook, but the papers will give you some theoretical context and background to complement this interactive notebook.\n",
    "\n",
    "\n",
    "## Before you begin\n",
    "\n",
    "In this notebook, you'll start exploring prompts and prompt parameters using the Python SDK and AI Studio. For some inspiration, you might enjoy exploring some apps that have been built using the Gemini family of models. Here are a few that we like, and we think you will too.\n",
    "\n",
    "* [TextFX](https://textfx.withgoogle.com/) is a suite of AI-powered tools for rappers, made in collaboration with Lupe Fiasco,\n",
    "* [SQL Talk](https://sql-talk-r5gdynozbq-uc.a.run.app/) shows how you can talk directly to a database using the Gemini API,\n",
    "* [NotebookLM](https://notebooklm.google/) uses Gemini models to build your own personal AI research assistant.\n",
    "\n",
    "\n",
    "## For help\n",
    "\n",
    "**Common issues are covered in the [FAQ and troubleshooting guide](https://www.kaggle.com/code/markishere/day-0-troubleshooting-and-faqs).**\n",
    "\n",
    "### A note on the Gemini API and Vertex AI\n",
    "\n",
    "In the whitepapers, most of the example code uses the Enterprise [Vertex AI platform](https://cloud.google.com/vertex-ai). In contrast, this notebook, along with the others in this series, will use the [Gemini Developer API](https://ai.google.dev/gemini-api/) and [AI Studio](https://aistudio.google.com/).\n",
    "\n",
    "Both APIs provide access to the Gemini family of models, and the code to interact with the models is very similar. Vertex provides a world-class platform for enterprises, governments and advanced users that need powerful features like data governance, ML ops and deep Google Cloud integration.\n",
    "\n",
    "AI Studio is free to use and only requires a compatible Google account to log in and get started. It is deeply integrated with the Gemini API, which comes with a generous [free tier](https://ai.google.dev/pricing) that you can use to run the code in these exercises.\n",
    "\n",
    "If you are already set up with Google Cloud, you can check out the [Enterprise Gemini API](https://cloud.google.com/vertex-ai/generative-ai/docs/model-reference/inference) through Vertex AI, and run the samples directly from the supplied whitepapers."
   ]
  },
  {
   "cell_type": "markdown",
   "id": "d8609691",
   "metadata": {
    "id": "f00ea7c99e44",
    "papermill": {
     "duration": 0.010727,
     "end_time": "2024-11-24T05:19:43.601365",
     "exception": false,
     "start_time": "2024-11-24T05:19:43.590638",
     "status": "completed"
    },
    "tags": []
   },
   "source": [
    "## Get started with Kaggle notebooks\n",
    "\n",
    "If this is your first time using a Kaggle notebook, welcome! You can read about how to use Kaggle notebooks [in the docs](https://www.kaggle.com/docs/notebooks).\n",
    "\n",
    "First, you will need to phone verify your account at kaggle.com/settings.\n",
    "\n",
    "![](https://storage.googleapis.com/kaggle-media/Images/5dgai_0.png)"
   ]
  },
  {
   "cell_type": "markdown",
   "id": "7a3706b4",
   "metadata": {
    "papermill": {
     "duration": 0.010738,
     "end_time": "2024-11-24T05:19:43.623164",
     "exception": false,
     "start_time": "2024-11-24T05:19:43.612426",
     "status": "completed"
    },
    "tags": []
   },
   "source": [
    "To run this notebook, as well as the others in this course, you will need to make a copy, or fork, the notebook. Look for the `Copy and Edit` button in the top-right, and **click it** to make an editable, private copy of the notebook. It should look like this one:\n",
    "\n",
    "![Copy and Edit button](https://storage.googleapis.com/kaggle-media/Images/5gdai_sc_1.png)\n",
    "\n",
    "Your copy will now have a ▶️ **Run** button next to each code cell that you can press to execute that cell. These notebooks are expected to be run in order from top-to-bottom, but you are encouraged to add new cells, run your own code and explore. If you get stuck, you can try the `Factory reset` option in the `Run` menu, or head back to the original notebook and make a fresh copy.\n",
    "\n",
    "![Run cell button](https://storage.googleapis.com/kaggle-media/Images/5gdai_sc_2.png)\n",
    "\n",
    "### Problems?\n",
    "\n",
    "If you have any problems, head over to the [Kaggle Discord](https://discord.com/invite/kaggle), find the [`#5dgai-q-and-a` channel](https://discord.com/channels/1101210829807956100/1303438695143178251) and ask for help."
   ]
  },
  {
   "cell_type": "markdown",
   "id": "67a2ed66",
   "metadata": {
    "id": "ExkOXcPxtTb5",
    "papermill": {
     "duration": 0.010748,
     "end_time": "2024-11-24T05:19:43.644978",
     "exception": false,
     "start_time": "2024-11-24T05:19:43.634230",
     "status": "completed"
    },
    "tags": []
   },
   "source": [
    "## Get started with the Gemini API\n",
    "\n",
    "All of the exercises in this notebook will use the [Gemini API](https://ai.google.dev/gemini-api/) by way of the [Python SDK](https://pypi.org/project/google-generativeai/). Each of these prompts can be accessed directly in [Google AI Studio](https://aistudio.google.com/) too, so if you would rather use a web interface and skip the code for this activity, look for the <img src=\"https://ai.google.dev/site-assets/images/marketing/home/icon-ais.png\" style=\"height: 24px\" height=24/> AI Studio link on each prompt."
   ]
  },
  {
   "cell_type": "markdown",
   "id": "4acb6769",
   "metadata": {
    "papermill": {
     "duration": 0.010647,
     "end_time": "2024-11-24T05:19:43.666632",
     "exception": false,
     "start_time": "2024-11-24T05:19:43.655985",
     "status": "completed"
    },
    "tags": []
   },
   "source": [
    "Next, you will need to add your API key to your Kaggle Notebook as a Kaggle User Secret.\n",
    "\n",
    "![](https://storage.googleapis.com/kaggle-media/Images/5dgai_1.png)\n",
    "![](https://storage.googleapis.com/kaggle-media/Images/5dgai_2.png)\n",
    "![](https://storage.googleapis.com/kaggle-media/Images/5dgai_3.png)\n",
    "![](https://storage.googleapis.com/kaggle-media/Images/5dgai_4.png)"
   ]
  },
  {
   "cell_type": "markdown",
   "id": "bce663e5",
   "metadata": {
    "id": "UAjUV3BsvFXQ",
    "papermill": {
     "duration": 0.010651,
     "end_time": "2024-11-24T05:19:43.688295",
     "exception": false,
     "start_time": "2024-11-24T05:19:43.677644",
     "status": "completed"
    },
    "tags": []
   },
   "source": [
    "### Install the SDK"
   ]
  },
  {
   "cell_type": "code",
   "execution_count": 2,
   "id": "6a3cbfaa",
   "metadata": {
    "execution": {
     "iopub.execute_input": "2024-11-24T05:19:43.712400Z",
     "iopub.status.busy": "2024-11-24T05:19:43.711441Z",
     "iopub.status.idle": "2024-11-24T05:20:08.838905Z",
     "shell.execute_reply": "2024-11-24T05:20:08.837469Z"
    },
    "id": "NzwzJFU9LqkJ",
    "papermill": {
     "duration": 25.142534,
     "end_time": "2024-11-24T05:20:08.841613",
     "exception": false,
     "start_time": "2024-11-24T05:19:43.699079",
     "status": "completed"
    },
    "tags": []
   },
   "outputs": [
    {
     "name": "stdout",
     "output_type": "stream",
     "text": [
      "Note: you may need to restart the kernel to use updated packages.\n"
     ]
    }
   ],
   "source": [
    "%pip install -U -q \"google-generativeai>=0.8.3\""
   ]
  },
  {
   "cell_type": "markdown",
   "id": "1432ec69",
   "metadata": {
    "papermill": {
     "duration": 0.010346,
     "end_time": "2024-11-24T05:20:08.863590",
     "exception": false,
     "start_time": "2024-11-24T05:20:08.853244",
     "status": "completed"
    },
    "tags": []
   },
   "source": [
    "You do not need to restart the kernel."
   ]
  },
  {
   "cell_type": "code",
   "execution_count": 3,
   "id": "04e8c437",
   "metadata": {
    "execution": {
     "iopub.execute_input": "2024-11-24T05:20:08.886773Z",
     "iopub.status.busy": "2024-11-24T05:20:08.886332Z",
     "iopub.status.idle": "2024-11-24T05:20:09.929898Z",
     "shell.execute_reply": "2024-11-24T05:20:09.928488Z"
    },
    "id": "5DwxYIRavMST",
    "papermill": {
     "duration": 1.058432,
     "end_time": "2024-11-24T05:20:09.932454",
     "exception": false,
     "start_time": "2024-11-24T05:20:08.874022",
     "status": "completed"
    },
    "tags": []
   },
   "outputs": [],
   "source": [
    "import google.generativeai as genai\n",
    "from IPython.display import HTML, Markdown, display"
   ]
  },
  {
   "cell_type": "markdown",
   "id": "4430ddb4",
   "metadata": {
    "id": "DNEt2BCOvOJ1",
    "papermill": {
     "duration": 0.010607,
     "end_time": "2024-11-24T05:20:09.953774",
     "exception": false,
     "start_time": "2024-11-24T05:20:09.943167",
     "status": "completed"
    },
    "tags": []
   },
   "source": [
    "### Set up your API key\n",
    "\n",
    "To run the following cell, your API key must be stored it in a [Kaggle secret](https://www.kaggle.com/discussions/product-feedback/114053) named `GOOGLE_API_KEY`.\n",
    "\n",
    "If you don't already have an API key, you can grab one from [AI Studio](https://aistudio.google.com/app/apikey). You can find [detailed instructions in the docs](https://ai.google.dev/gemini-api/docs/api-key).\n",
    "\n",
    "To make the key available through Kaggle secrets, choose `Secrets` from the `Add-ons` menu and follow the instructions to add your key or enable it for this notebook."
   ]
  },
  {
   "cell_type": "code",
   "execution_count": 4,
   "id": "6c1f48ba",
   "metadata": {
    "execution": {
     "iopub.execute_input": "2024-11-24T05:20:09.976892Z",
     "iopub.status.busy": "2024-11-24T05:20:09.976089Z",
     "iopub.status.idle": "2024-11-24T05:20:10.177071Z",
     "shell.execute_reply": "2024-11-24T05:20:10.176095Z"
    },
    "id": "SHl0bkPCvayd",
    "papermill": {
     "duration": 0.215713,
     "end_time": "2024-11-24T05:20:10.179945",
     "exception": false,
     "start_time": "2024-11-24T05:20:09.964232",
     "status": "completed"
    },
    "tags": []
   },
   "outputs": [],
   "source": [
    "from kaggle_secrets import UserSecretsClient\n",
    "\n",
    "GOOGLE_API_KEY = UserSecretsClient().get_secret(\"GOOGLE_API_KEY\")\n",
    "genai.configure(api_key=GOOGLE_API_KEY)"
   ]
  },
  {
   "cell_type": "markdown",
   "id": "cb748a0b",
   "metadata": {
    "id": "4e720472fd86",
    "papermill": {
     "duration": 0.010689,
     "end_time": "2024-11-24T05:20:10.202169",
     "exception": false,
     "start_time": "2024-11-24T05:20:10.191480",
     "status": "completed"
    },
    "tags": []
   },
   "source": [
    "If you received an error response along the lines of `No user secrets exist for kernel id ...`, then you need to add your API key via `Add-ons`, `Secrets` **and** enable it.\n",
    "\n",
    "![Screenshot of the checkbox to enable GOOGLE_API_KEY secret](https://storage.googleapis.com/kaggle-media/Images/5gdai_sc_3.png)"
   ]
  },
  {
   "cell_type": "markdown",
   "id": "15f37006",
   "metadata": {
    "id": "H_YXCYIKvyZJ",
    "papermill": {
     "duration": 0.010449,
     "end_time": "2024-11-24T05:20:10.223756",
     "exception": false,
     "start_time": "2024-11-24T05:20:10.213307",
     "status": "completed"
    },
    "tags": []
   },
   "source": [
    "### Run your first prompt\n",
    "\n",
    "In this step, you will test that your API key is set up correctly by making a request. The `gemini-1.5-flash` model has been selected here."
   ]
  },
  {
   "cell_type": "code",
   "execution_count": 5,
   "id": "6e05c667",
   "metadata": {
    "execution": {
     "iopub.execute_input": "2024-11-24T05:20:10.247475Z",
     "iopub.status.busy": "2024-11-24T05:20:10.247006Z",
     "iopub.status.idle": "2024-11-24T05:20:14.261355Z",
     "shell.execute_reply": "2024-11-24T05:20:14.260200Z"
    },
    "id": "BV1o0PmcvyJF",
    "papermill": {
     "duration": 4.030269,
     "end_time": "2024-11-24T05:20:14.264895",
     "exception": false,
     "start_time": "2024-11-24T05:20:10.234626",
     "status": "completed"
    },
    "tags": []
   },
   "outputs": [
    {
     "name": "stdout",
     "output_type": "stream",
     "text": [
      "Imagine you have a really smart puppy.  You teach it tricks, like \"sit\" and \"fetch.\"  At first, the puppy doesn't know what those words mean, but you show it what to do, and give it treats when it does it right.  Slowly, it learns!\n",
      "\n",
      "AI, or Artificial Intelligence, is like teaching a computer to be that smart puppy.  Instead of treats, we give the computer lots and lots of information – like pictures of cats and dogs, or stories, or even numbers.  We teach it rules, like \"a cat has pointy ears and a dog has floppy ears,\" and the computer learns to tell the difference.\n",
      "\n",
      "The more information we give it, and the better the rules we teach it, the smarter the computer gets!  It can then do amazing things, like understand what you say (like Siri or Alexa), play games, draw pictures, or even help doctors find sicknesses.\n",
      "\n",
      "It's not really *thinking* like you and me, though.  It's just following the rules and information we give it, very, very quickly and cleverly.  But it's getting better all the time!\n",
      "\n"
     ]
    }
   ],
   "source": [
    "flash = genai.GenerativeModel('gemini-1.5-flash')\n",
    "response = flash.generate_content(\"Explain AI to me like I'm a kid.\")\n",
    "print(response.text)"
   ]
  },
  {
   "cell_type": "markdown",
   "id": "bd4efd13",
   "metadata": {
    "id": "f60ed9d8ae41",
    "papermill": {
     "duration": 0.012397,
     "end_time": "2024-11-24T05:20:14.291222",
     "exception": false,
     "start_time": "2024-11-24T05:20:14.278825",
     "status": "completed"
    },
    "tags": []
   },
   "source": [
    "The response often comes back in markdown format, which you can render directly in this notebook."
   ]
  },
  {
   "cell_type": "code",
   "execution_count": 6,
   "id": "3b6ae75d",
   "metadata": {
    "execution": {
     "iopub.execute_input": "2024-11-24T05:20:14.315931Z",
     "iopub.status.busy": "2024-11-24T05:20:14.315472Z",
     "iopub.status.idle": "2024-11-24T05:20:14.324717Z",
     "shell.execute_reply": "2024-11-24T05:20:14.323689Z"
    },
    "id": "c933e5e460a5",
    "papermill": {
     "duration": 0.0247,
     "end_time": "2024-11-24T05:20:14.327037",
     "exception": false,
     "start_time": "2024-11-24T05:20:14.302337",
     "status": "completed"
    },
    "tags": []
   },
   "outputs": [
    {
     "data": {
      "text/markdown": [
       "Imagine you have a really smart puppy.  You teach it tricks, like \"sit\" and \"fetch.\"  At first, the puppy doesn't know what those words mean, but you show it what to do, and give it treats when it does it right.  Slowly, it learns!\n",
       "\n",
       "AI, or Artificial Intelligence, is like teaching a computer to be that smart puppy.  Instead of treats, we give the computer lots and lots of information – like pictures of cats and dogs, or stories, or even numbers.  We teach it rules, like \"a cat has pointy ears and a dog has floppy ears,\" and the computer learns to tell the difference.\n",
       "\n",
       "The more information we give it, and the better the rules we teach it, the smarter the computer gets!  It can then do amazing things, like understand what you say (like Siri or Alexa), play games, draw pictures, or even help doctors find sicknesses.\n",
       "\n",
       "It's not really *thinking* like you and me, though.  It's just following the rules and information we give it, very, very quickly and cleverly.  But it's getting better all the time!\n"
      ],
      "text/plain": [
       "<IPython.core.display.Markdown object>"
      ]
     },
     "execution_count": 6,
     "metadata": {},
     "output_type": "execute_result"
    }
   ],
   "source": [
    "Markdown(response.text)"
   ]
  },
  {
   "cell_type": "markdown",
   "id": "3e3b2fb7",
   "metadata": {
    "id": "byx0pT9ZMW2Q",
    "papermill": {
     "duration": 0.011487,
     "end_time": "2024-11-24T05:20:14.349921",
     "exception": false,
     "start_time": "2024-11-24T05:20:14.338434",
     "status": "completed"
    },
    "tags": []
   },
   "source": [
    "### Start a chat\n",
    "\n",
    "The previous example uses a single-turn, text-in/text-out structure, but you can also set up a multi-turn chat structure too."
   ]
  },
  {
   "cell_type": "code",
   "execution_count": 7,
   "id": "19e2f240",
   "metadata": {
    "execution": {
     "iopub.execute_input": "2024-11-24T05:20:14.375020Z",
     "iopub.status.busy": "2024-11-24T05:20:14.374546Z",
     "iopub.status.idle": "2024-11-24T05:20:17.733304Z",
     "shell.execute_reply": "2024-11-24T05:20:17.732213Z"
    },
    "id": "lV_S5ZL5MidD",
    "papermill": {
     "duration": 3.373998,
     "end_time": "2024-11-24T05:20:17.735824",
     "exception": false,
     "start_time": "2024-11-24T05:20:14.361826",
     "status": "completed"
    },
    "tags": []
   },
   "outputs": [
    {
     "name": "stdout",
     "output_type": "stream",
     "text": [
      "It's nice to meet you, Zlork!  How can I help you today?\n",
      "\n"
     ]
    }
   ],
   "source": [
    "chat = flash.start_chat(history=[])\n",
    "response = chat.send_message('Hello! My name is Zlork.')\n",
    "print(response.text)"
   ]
  },
  {
   "cell_type": "code",
   "execution_count": 8,
   "id": "50be9cbd",
   "metadata": {
    "execution": {
     "iopub.execute_input": "2024-11-24T05:20:17.761347Z",
     "iopub.status.busy": "2024-11-24T05:20:17.760889Z",
     "iopub.status.idle": "2024-11-24T05:20:19.887079Z",
     "shell.execute_reply": "2024-11-24T05:20:19.885932Z"
    },
    "id": "7b0372c3c64a",
    "papermill": {
     "duration": 2.14279,
     "end_time": "2024-11-24T05:20:19.890283",
     "exception": false,
     "start_time": "2024-11-24T05:20:17.747493",
     "status": "completed"
    },
    "tags": []
   },
   "outputs": [
    {
     "name": "stdout",
     "output_type": "stream",
     "text": [
      "Many dinosaurs likely had feathers!  While we often picture dinosaurs as scaly reptiles,  evidence shows that many, especially theropods (the group that includes *Tyrannosaurus rex* and velociraptors), sported feathers, ranging from simple filaments to complex, flight-capable feathers.  This discovery has significantly changed our understanding of dinosaur evolution and their relationship to birds.\n",
      "\n"
     ]
    }
   ],
   "source": [
    "response = chat.send_message('Can you tell something interesting about dinosaurs?')\n",
    "print(response.text)"
   ]
  },
  {
   "cell_type": "code",
   "execution_count": 9,
   "id": "6df06b27",
   "metadata": {
    "execution": {
     "iopub.execute_input": "2024-11-24T05:20:19.918421Z",
     "iopub.status.busy": "2024-11-24T05:20:19.917320Z",
     "iopub.status.idle": "2024-11-24T05:20:20.669253Z",
     "shell.execute_reply": "2024-11-24T05:20:20.667946Z"
    },
    "id": "d3f9591392a7",
    "papermill": {
     "duration": 0.76908,
     "end_time": "2024-11-24T05:20:20.671963",
     "exception": false,
     "start_time": "2024-11-24T05:20:19.902883",
     "status": "completed"
    },
    "tags": []
   },
   "outputs": [
    {
     "name": "stdout",
     "output_type": "stream",
     "text": [
      "Yes, your name is Zlork.\n",
      "\n"
     ]
    }
   ],
   "source": [
    "# While you have the `chat` object around, the conversation state\n",
    "# persists. Confirm that by asking if it knows my name.\n",
    "response = chat.send_message('Do you remember what my name is?')\n",
    "print(response.text)"
   ]
  },
  {
   "cell_type": "markdown",
   "id": "e7b95b4e",
   "metadata": {
    "id": "2KAjpr1200sW",
    "papermill": {
     "duration": 0.011201,
     "end_time": "2024-11-24T05:20:20.694945",
     "exception": false,
     "start_time": "2024-11-24T05:20:20.683744",
     "status": "completed"
    },
    "tags": []
   },
   "source": [
    "### Choose a model\n",
    "\n",
    "The Gemini API provides access to a number of models from the Gemini model family. Read about the available models and their capabilities on the [model overview page](https://ai.google.dev/gemini-api/docs/models/gemini).\n",
    "\n",
    "In this step you'll use the API to list all of the available models."
   ]
  },
  {
   "cell_type": "code",
   "execution_count": 10,
   "id": "6bb33687",
   "metadata": {
    "execution": {
     "iopub.execute_input": "2024-11-24T05:20:20.720679Z",
     "iopub.status.busy": "2024-11-24T05:20:20.719804Z",
     "iopub.status.idle": "2024-11-24T05:20:20.865166Z",
     "shell.execute_reply": "2024-11-24T05:20:20.864004Z"
    },
    "id": "uUUZa2uq2jDm",
    "papermill": {
     "duration": 0.161135,
     "end_time": "2024-11-24T05:20:20.867834",
     "exception": false,
     "start_time": "2024-11-24T05:20:20.706699",
     "status": "completed"
    },
    "tags": []
   },
   "outputs": [
    {
     "name": "stdout",
     "output_type": "stream",
     "text": [
      "models/chat-bison-001\n",
      "models/text-bison-001\n",
      "models/embedding-gecko-001\n",
      "models/gemini-1.0-pro-latest\n",
      "models/gemini-1.0-pro\n",
      "models/gemini-pro\n",
      "models/gemini-1.0-pro-001\n",
      "models/gemini-1.0-pro-vision-latest\n",
      "models/gemini-pro-vision\n",
      "models/gemini-1.5-pro-latest\n",
      "models/gemini-1.5-pro-001\n",
      "models/gemini-1.5-pro-002\n",
      "models/gemini-1.5-pro\n",
      "models/gemini-1.5-pro-exp-0801\n",
      "models/gemini-1.5-pro-exp-0827\n",
      "models/gemini-1.5-flash-latest\n",
      "models/gemini-1.5-flash-001\n",
      "models/gemini-1.5-flash-001-tuning\n",
      "models/gemini-1.5-flash\n",
      "models/gemini-1.5-flash-exp-0827\n",
      "models/gemini-1.5-flash-002\n",
      "models/gemini-1.5-flash-8b\n",
      "models/gemini-1.5-flash-8b-001\n",
      "models/gemini-1.5-flash-8b-latest\n",
      "models/gemini-1.5-flash-8b-exp-0827\n",
      "models/gemini-1.5-flash-8b-exp-0924\n",
      "models/learnlm-1.5-pro-experimental\n",
      "models/gemini-exp-1114\n",
      "models/gemini-exp-1121\n",
      "models/embedding-001\n",
      "models/text-embedding-004\n",
      "models/aqa\n"
     ]
    }
   ],
   "source": [
    "for model in genai.list_models():\n",
    "  print(model.name)"
   ]
  },
  {
   "cell_type": "markdown",
   "id": "7fb7eba9",
   "metadata": {
    "id": "rN49kSI54R1v",
    "papermill": {
     "duration": 0.011777,
     "end_time": "2024-11-24T05:20:20.891440",
     "exception": false,
     "start_time": "2024-11-24T05:20:20.879663",
     "status": "completed"
    },
    "tags": []
   },
   "source": [
    "The [`models.list`](https://ai.google.dev/api/models#method:-models.list) response also returns additional information about the model's capabilities, like the token limits and supported parameters."
   ]
  },
  {
   "cell_type": "code",
   "execution_count": 11,
   "id": "d9f032a3",
   "metadata": {
    "execution": {
     "iopub.execute_input": "2024-11-24T05:20:20.916586Z",
     "iopub.status.busy": "2024-11-24T05:20:20.916070Z",
     "iopub.status.idle": "2024-11-24T05:20:21.253472Z",
     "shell.execute_reply": "2024-11-24T05:20:21.252390Z"
    },
    "id": "k7JJ1K6j4Rl8",
    "papermill": {
     "duration": 0.352921,
     "end_time": "2024-11-24T05:20:21.255948",
     "exception": false,
     "start_time": "2024-11-24T05:20:20.903027",
     "status": "completed"
    },
    "tags": []
   },
   "outputs": [
    {
     "name": "stdout",
     "output_type": "stream",
     "text": [
      "Model(name='models/gemini-1.5-flash',\n",
      "      base_model_id='',\n",
      "      version='001',\n",
      "      display_name='Gemini 1.5 Flash',\n",
      "      description=('Alias that points to the most recent stable version of Gemini 1.5 Flash, our '\n",
      "                   'fast and versatile multimodal model for scaling across diverse tasks.'),\n",
      "      input_token_limit=1000000,\n",
      "      output_token_limit=8192,\n",
      "      supported_generation_methods=['generateContent', 'countTokens'],\n",
      "      temperature=1.0,\n",
      "      max_temperature=2.0,\n",
      "      top_p=0.95,\n",
      "      top_k=40)\n"
     ]
    }
   ],
   "source": [
    "for model in genai.list_models():\n",
    "  if model.name == 'models/gemini-1.5-flash':\n",
    "    print(model)\n",
    "    break"
   ]
  },
  {
   "cell_type": "markdown",
   "id": "a8f5c217",
   "metadata": {
    "id": "5rU_UBlZdooM",
    "papermill": {
     "duration": 0.011099,
     "end_time": "2024-11-24T05:20:21.278953",
     "exception": false,
     "start_time": "2024-11-24T05:20:21.267854",
     "status": "completed"
    },
    "tags": []
   },
   "source": [
    "## Explore generation parameters\n",
    "\n"
   ]
  },
  {
   "cell_type": "markdown",
   "id": "e3ff3dc9",
   "metadata": {
    "id": "G7NfEizeipbW",
    "papermill": {
     "duration": 0.011501,
     "end_time": "2024-11-24T05:20:21.301909",
     "exception": false,
     "start_time": "2024-11-24T05:20:21.290408",
     "status": "completed"
    },
    "tags": []
   },
   "source": [
    "### Output length\n",
    "\n",
    "When generating text with an LLM, the output length affects cost and performance. Generating more tokens increases computation, leading to higher energy consumption, latency, and cost.\n",
    "\n",
    "To stop the model from generating tokens past a limit, you can specify the `max_output_tokens` parameter when using the Gemini API. Specifying this parameter does not influence the generation of the output tokens, so the output will not become more stylistically or textually succinct, but it will stop generating tokens once the specified length is reached. Prompt engineering may be required to generate a more complete output for your given limit."
   ]
  },
  {
   "cell_type": "code",
   "execution_count": 12,
   "id": "1ec1f8c6",
   "metadata": {
    "execution": {
     "iopub.execute_input": "2024-11-24T05:20:21.327248Z",
     "iopub.status.busy": "2024-11-24T05:20:21.326742Z",
     "iopub.status.idle": "2024-11-24T05:20:23.536780Z",
     "shell.execute_reply": "2024-11-24T05:20:23.535524Z"
    },
    "id": "qVf23JsIi9ma",
    "papermill": {
     "duration": 2.22574,
     "end_time": "2024-11-24T05:20:23.539344",
     "exception": false,
     "start_time": "2024-11-24T05:20:21.313604",
     "status": "completed"
    },
    "tags": []
   },
   "outputs": [
    {
     "name": "stdout",
     "output_type": "stream",
     "text": [
      "## The Enduring Significance of Olives in Modern Society\n",
      "\n",
      "The olive, *Olea europaea*, a seemingly unassuming fruit, holds a profound and multifaceted significance in modern society. Far exceeding its simple culinary role, the olive tree and its product have interwoven themselves into the cultural, economic, and environmental fabric of numerous regions across the globe.  Its importance transcends mere sustenance, impacting global trade, shaping landscapes, fostering cultural identity, and contributing to both human health and environmental sustainability. This essay will explore the multifaceted significance of olives in the modern world, highlighting its contributions to nutrition, economy, culture, and environmental preservation.\n",
      "\n",
      "One of the most prominent aspects of the olive's importance lies in its nutritional value.  Olives, particularly extra virgin olive oil (EVOO), are a cornerstone of the Mediterranean diet, widely recognized for its positive impact on cardiovascular health. Rich in monounsaturated fatty acids, particularly oleic acid, EVOO contributes to lowering LDL (“bad”) cholesterol and raising\n"
     ]
    }
   ],
   "source": [
    "short_model = genai.GenerativeModel(\n",
    "    'gemini-1.5-flash',\n",
    "    generation_config=genai.GenerationConfig(max_output_tokens=200))\n",
    "\n",
    "response = short_model.generate_content('Write a 1000 word essay on the importance of olives in modern society.')\n",
    "print(response.text)"
   ]
  },
  {
   "cell_type": "code",
   "execution_count": 13,
   "id": "7c0e0a4e",
   "metadata": {
    "execution": {
     "iopub.execute_input": "2024-11-24T05:20:23.566363Z",
     "iopub.status.busy": "2024-11-24T05:20:23.565149Z",
     "iopub.status.idle": "2024-11-24T05:20:24.724267Z",
     "shell.execute_reply": "2024-11-24T05:20:24.723008Z"
    },
    "id": "W-3kR2F5kdMR",
    "papermill": {
     "duration": 1.175351,
     "end_time": "2024-11-24T05:20:24.726844",
     "exception": false,
     "start_time": "2024-11-24T05:20:23.551493",
     "status": "completed"
    },
    "tags": []
   },
   "outputs": [
    {
     "name": "stdout",
     "output_type": "stream",
     "text": [
      "From ancient groves, a bounty flows,\n",
      "The olive's gift, the world bestows.\n",
      "In oil so rich, a flavor bright,\n",
      "A healthful heart, a culinary light.\n",
      "\n",
      "On tables spread, a simple grace,\n",
      "In salads dressed, or bread's embrace.\n",
      "From tapenade to soaps so fine,\n",
      "The olive's worth, a truth divine. \n",
      "A symbol strong, of sun-drenched lands,\n",
      "A vital part, in helping hands.\n",
      "\n"
     ]
    }
   ],
   "source": [
    "response = short_model.generate_content('Write a short poem on the importance of olives in modern society.')\n",
    "print(response.text)"
   ]
  },
  {
   "cell_type": "markdown",
   "id": "047464d3",
   "metadata": {
    "id": "3ZhDSLB6lqqB",
    "papermill": {
     "duration": 0.011497,
     "end_time": "2024-11-24T05:20:24.751081",
     "exception": false,
     "start_time": "2024-11-24T05:20:24.739584",
     "status": "completed"
    },
    "tags": []
   },
   "source": [
    "Explore with your own prompts. Try a prompt with a restrictive output limit and then adjust the prompt to work within that limit."
   ]
  },
  {
   "cell_type": "markdown",
   "id": "6d0ab1e6",
   "metadata": {
    "id": "alx-WaAvir_9",
    "papermill": {
     "duration": 0.011417,
     "end_time": "2024-11-24T05:20:24.774398",
     "exception": false,
     "start_time": "2024-11-24T05:20:24.762981",
     "status": "completed"
    },
    "tags": []
   },
   "source": [
    "### Temperature\n",
    "\n",
    "Temperature controls the degree of randomness in token selection. Higher temperatures result in a higher number of candidate tokens from which the next output token is selected, and can produce more diverse results, while lower temperatures have the opposite effect, such that a temperature of 0 results in greedy decoding, selecting the most probable token at each step.\n",
    "\n",
    "Temperature doesn't provide any guarantees of randomness, but it can be used to \"nudge\" the output somewhat.\n",
    "\n",
    "**Note that if you see a 429 Resource Exhausted error here, you may be able to edit the words in the prompt slightly to progress.**"
   ]
  },
  {
   "cell_type": "code",
   "execution_count": 14,
   "id": "c96c81c6",
   "metadata": {
    "execution": {
     "iopub.execute_input": "2024-11-24T05:20:24.799688Z",
     "iopub.status.busy": "2024-11-24T05:20:24.799238Z",
     "iopub.status.idle": "2024-11-24T05:20:27.142801Z",
     "shell.execute_reply": "2024-11-24T05:20:27.141558Z"
    },
    "id": "SHraGMzqnZqt",
    "papermill": {
     "duration": 2.359262,
     "end_time": "2024-11-24T05:20:27.145165",
     "exception": false,
     "start_time": "2024-11-24T05:20:24.785903",
     "status": "completed"
    },
    "tags": []
   },
   "outputs": [
    {
     "name": "stdout",
     "output_type": "stream",
     "text": [
      "Marigold\n",
      " -------------------------\n",
      "Maroon\n",
      " -------------------------\n",
      "Aquamarine\n",
      " -------------------------\n",
      "Maroon\n",
      " -------------------------\n",
      "Purple\n",
      " -------------------------\n"
     ]
    }
   ],
   "source": [
    "from google.api_core import retry\n",
    "\n",
    "high_temp_model = genai.GenerativeModel(\n",
    "    'gemini-1.5-flash',\n",
    "    generation_config=genai.GenerationConfig(temperature=2.0))\n",
    "\n",
    "\n",
    "# When running lots of queries, it's a good practice to use a retry policy so your code\n",
    "# automatically retries when hitting Resource Exhausted (quota limit) errors.\n",
    "retry_policy = {\n",
    "    \"retry\": retry.Retry(predicate=retry.if_transient_error, initial=10, multiplier=1.5, timeout=600)\n",
    "}\n",
    "\n",
    "\n",
    "for _ in range(5):\n",
    "  response = high_temp_model.generate_content('Pick a random colour... (respond in a single word)',\n",
    "                                              request_options=retry_policy)\n",
    "  if response.parts:\n",
    "    print(response.text, '-' * 25)"
   ]
  },
  {
   "cell_type": "markdown",
   "id": "c362ca8c",
   "metadata": {
    "id": "z3J4pCTuof7e",
    "papermill": {
     "duration": 0.012286,
     "end_time": "2024-11-24T05:20:27.169820",
     "exception": false,
     "start_time": "2024-11-24T05:20:27.157534",
     "status": "completed"
    },
    "tags": []
   },
   "source": [
    "Now try the same prompt with temperature set to zero. Note that the output is not completely deterministic, as other parameters affect token selection, but the results will tend to be more stable."
   ]
  },
  {
   "cell_type": "code",
   "execution_count": 15,
   "id": "da41e809",
   "metadata": {
    "execution": {
     "iopub.execute_input": "2024-11-24T05:20:27.195682Z",
     "iopub.status.busy": "2024-11-24T05:20:27.195256Z",
     "iopub.status.idle": "2024-11-24T05:20:29.491409Z",
     "shell.execute_reply": "2024-11-24T05:20:29.488567Z"
    },
    "id": "clymkWv-PfUZ",
    "papermill": {
     "duration": 2.313801,
     "end_time": "2024-11-24T05:20:29.495592",
     "exception": false,
     "start_time": "2024-11-24T05:20:27.181791",
     "status": "completed"
    },
    "tags": []
   },
   "outputs": [
    {
     "name": "stdout",
     "output_type": "stream",
     "text": [
      "Maroon\n",
      " -------------------------\n",
      "Maroon\n",
      " -------------------------\n",
      "Maroon\n",
      " -------------------------\n",
      "Maroon\n",
      " -------------------------\n",
      "Maroon\n",
      " -------------------------\n"
     ]
    }
   ],
   "source": [
    "low_temp_model = genai.GenerativeModel(\n",
    "    'gemini-1.5-flash',\n",
    "    generation_config=genai.GenerationConfig(temperature=0.0))\n",
    "\n",
    "for _ in range(5):\n",
    "  response = low_temp_model.generate_content('Pick a random colour... (respond in a single word)',\n",
    "                                             request_options=retry_policy)\n",
    "  if response.parts:\n",
    "    print(response.text, '-' * 25)"
   ]
  },
  {
   "cell_type": "markdown",
   "id": "0f66e71e",
   "metadata": {
    "id": "St5nt3vzitsZ",
    "papermill": {
     "duration": 0.013431,
     "end_time": "2024-11-24T05:20:29.529048",
     "exception": false,
     "start_time": "2024-11-24T05:20:29.515617",
     "status": "completed"
    },
    "tags": []
   },
   "source": [
    "### Top-K and top-P\n",
    "\n",
    "Like temperature, top-K and top-P parameters are also used to control the diversity of the model's output.\n",
    "\n",
    "Top-K is a positive integer that defines the number of most probable tokens from which to select the output token. A top-K of 1 selects a single token, performing greedy decoding.\n",
    "\n",
    "Top-P defines the probability threshold that, once cumulatively exceeded, tokens stop being selected as candidates. A top-P of 0 is typically equivalent to greedy decoding, and a top-P of 1 typically selects every token in the model's vocabulary.\n",
    "\n",
    "When both are supplied, the Gemini API will filter top-K tokens first, then top-P and then finally sample from the candidate tokens using the supplied temperature.\n",
    "\n",
    "Run this example a number of times, change the settings and observe the change in output."
   ]
  },
  {
   "cell_type": "code",
   "execution_count": 16,
   "id": "bd175b67",
   "metadata": {
    "execution": {
     "iopub.execute_input": "2024-11-24T05:20:29.563287Z",
     "iopub.status.busy": "2024-11-24T05:20:29.562850Z",
     "iopub.status.idle": "2024-11-24T05:20:32.396130Z",
     "shell.execute_reply": "2024-11-24T05:20:32.394983Z"
    },
    "id": "lPlzpEavUV8F",
    "papermill": {
     "duration": 2.850567,
     "end_time": "2024-11-24T05:20:32.398875",
     "exception": false,
     "start_time": "2024-11-24T05:20:29.548308",
     "status": "completed"
    },
    "tags": []
   },
   "outputs": [
    {
     "name": "stdout",
     "output_type": "stream",
     "text": [
      "Bartholomew was no ordinary cat. While his brethren were content with sunbeams and chasing dust motes, Bartholomew yearned for adventure. He dreamed of the world beyond the garden fence, a world of rustling leaves and hidden treasures.\n",
      "\n",
      "One day, a plump robin landed on the fence, its chest puffed with a juicy worm. \"See that old oak over there?\" the robin chirped, \"It's the heart of the forest, filled with secrets and adventure.\" \n",
      "\n",
      "Bartholomew's whiskers twitched. He’d seen the oak, a silhouette against the sunset, but the garden gate stood as a barrier. That night, he devised a plan. He snuck out when his human was asleep, squeezing through a gap in the fence.\n",
      "\n",
      "The forest was a wonderland. The air smelled of moss and damp earth, and the rustling leaves whispered secrets. Bartholomew stalked a plump field mouse, his paws light and silent. He even climbed a tree, his claws digging into the bark. \n",
      "\n",
      "He found the old oak, its gnarled branches reaching for the sky. A small, rusty door was hidden within its trunk. Bartholomew sniffed it, a strange, familiar scent tickling his nose. He nudged it with his head, the door creaking open.\n",
      "\n",
      "Inside, he found a room filled with treasures. There were balls of yarn, catnip-filled toys, and a stack of fish-shaped treats. A kind-faced old woman sat in a rocking chair, knitting a colorful scarf. \n",
      "\n",
      "\"Welcome, young adventurer,\" she chuckled, her voice like rustling leaves. \"You've found the Cat's Den.\"\n",
      "\n",
      "Bartholomew purred, his heart full. He spent the afternoon playing with the toys, enjoying the woman's company. She told him stories of the forest, of talking squirrels and mischievous owls.\n",
      "\n",
      "As the sun began to set, the woman led him back to the door. \"The forest is full of wonders,\" she said, stroking his ears. \"But your home awaits you, young one.\"\n",
      "\n",
      "Bartholomew reluctantly walked back, his heart heavy with the knowledge of the secrets he’d discovered. He squeezed back through the fence, his adventure etched in his memory. \n",
      "\n",
      "The next morning, his human found him curled up by the window, a small, rusty key clutched in his paws. Bartholomew yawned, the image of the Cat's Den and the kind woman flashing in his mind. He knew, deep in his heart, that the forest would always be there, waiting for him. He had tasted adventure, and it had left him wanting more. \n",
      "\n"
     ]
    }
   ],
   "source": [
    "model = genai.GenerativeModel(\n",
    "    'gemini-1.5-flash-001',\n",
    "    generation_config=genai.GenerationConfig(\n",
    "        # These are the default values for gemini-1.5-flash-001.\n",
    "        temperature=1.0,\n",
    "        top_k=64,\n",
    "        top_p=0.95,\n",
    "    ))\n",
    "\n",
    "story_prompt = \"You are a creative writer. Write a short story about a cat who goes on an adventure.\"\n",
    "response = model.generate_content(story_prompt, request_options=retry_policy)\n",
    "print(response.text)"
   ]
  },
  {
   "cell_type": "markdown",
   "id": "e95c890d",
   "metadata": {
    "id": "rMrYs1koY6DX",
    "papermill": {
     "duration": 0.012996,
     "end_time": "2024-11-24T05:20:32.424976",
     "exception": false,
     "start_time": "2024-11-24T05:20:32.411980",
     "status": "completed"
    },
    "tags": []
   },
   "source": [
    "## Prompting\n",
    "\n",
    "This section contains some prompts from the chapter for you to try out directly in the API. Try changing the text here to see how each prompt performs with different instructions, more examples, or any other changes you can think of."
   ]
  },
  {
   "cell_type": "markdown",
   "id": "154f3964",
   "metadata": {
    "id": "hhj_tQidZJP7",
    "papermill": {
     "duration": 0.012165,
     "end_time": "2024-11-24T05:20:32.449818",
     "exception": false,
     "start_time": "2024-11-24T05:20:32.437653",
     "status": "completed"
    },
    "tags": []
   },
   "source": [
    "### Zero-shot\n",
    "\n",
    "Zero-shot prompts are prompts that describe the request for the model directly.\n",
    "\n",
    "<table align=left>\n",
    "  <td>\n",
    "    <a target=\"_blank\" href=\"https://aistudio.google.com/prompts/1gzKKgDHwkAvexG5Up0LMtl1-6jKMKe4g\"><img src=\"https://ai.google.dev/site-assets/images/marketing/home/icon-ais.png\" style=\"height: 24px\" height=24/> Open in AI Studio</a>\n",
    "  </td>\n",
    "</table>"
   ]
  },
  {
   "cell_type": "code",
   "execution_count": 17,
   "id": "738a6f09",
   "metadata": {
    "execution": {
     "iopub.execute_input": "2024-11-24T05:20:32.479301Z",
     "iopub.status.busy": "2024-11-24T05:20:32.478758Z",
     "iopub.status.idle": "2024-11-24T05:20:33.019484Z",
     "shell.execute_reply": "2024-11-24T05:20:33.018278Z"
    },
    "id": "1_t-cwnDZzbH",
    "papermill": {
     "duration": 0.55764,
     "end_time": "2024-11-24T05:20:33.021944",
     "exception": false,
     "start_time": "2024-11-24T05:20:32.464304",
     "status": "completed"
    },
    "tags": []
   },
   "outputs": [
    {
     "name": "stdout",
     "output_type": "stream",
     "text": [
      "Sentiment: **POSITIVE**\n"
     ]
    }
   ],
   "source": [
    "model = genai.GenerativeModel(\n",
    "    'gemini-1.5-flash-001',\n",
    "    generation_config=genai.GenerationConfig(\n",
    "        temperature=0.1,\n",
    "        top_p=1,\n",
    "        max_output_tokens=5,\n",
    "    ))\n",
    "\n",
    "zero_shot_prompt = \"\"\"Classify movie reviews as POSITIVE, NEUTRAL or NEGATIVE.\n",
    "Review: \"Her\" is a disturbing study revealing the direction\n",
    "humanity is headed if AI is allowed to keep evolving,\n",
    "unchecked. I wish there were more movies like this masterpiece.\n",
    "Sentiment: \"\"\"\n",
    "\n",
    "response = model.generate_content(zero_shot_prompt, request_options=retry_policy)\n",
    "print(response.text)"
   ]
  },
  {
   "cell_type": "markdown",
   "id": "e698943c",
   "metadata": {
    "id": "3b5568bdeb11",
    "papermill": {
     "duration": 0.012291,
     "end_time": "2024-11-24T05:20:33.047147",
     "exception": false,
     "start_time": "2024-11-24T05:20:33.034856",
     "status": "completed"
    },
    "tags": []
   },
   "source": [
    "#### Enum mode\n",
    "\n",
    "The models are trained to generate text, and can sometimes produce more text than you may wish for. In the preceding example, the model will output the label, sometimes it can include a preceding \"Sentiment\" label, and without an output token limit, it may also add explanatory text afterwards.\n",
    "\n",
    "The Gemini API has an [Enum mode](https://github.com/google-gemini/cookbook/blob/main/quickstarts/Enum.ipynb) feature that allows you to constrain the output to a fixed set of values."
   ]
  },
  {
   "cell_type": "code",
   "execution_count": 18,
   "id": "7afcbeb7",
   "metadata": {
    "execution": {
     "iopub.execute_input": "2024-11-24T05:20:33.075444Z",
     "iopub.status.busy": "2024-11-24T05:20:33.074499Z",
     "iopub.status.idle": "2024-11-24T05:20:33.696433Z",
     "shell.execute_reply": "2024-11-24T05:20:33.695308Z"
    },
    "id": "ad118a56c598",
    "papermill": {
     "duration": 0.638994,
     "end_time": "2024-11-24T05:20:33.699096",
     "exception": false,
     "start_time": "2024-11-24T05:20:33.060102",
     "status": "completed"
    },
    "tags": []
   },
   "outputs": [
    {
     "name": "stdout",
     "output_type": "stream",
     "text": [
      "positive\n"
     ]
    }
   ],
   "source": [
    "import enum\n",
    "\n",
    "class Sentiment(enum.Enum):\n",
    "    POSITIVE = \"positive\"\n",
    "    NEUTRAL = \"neutral\"\n",
    "    NEGATIVE = \"negative\"\n",
    "\n",
    "\n",
    "model = genai.GenerativeModel(\n",
    "    'gemini-1.5-flash-001',\n",
    "    generation_config=genai.GenerationConfig(\n",
    "        response_mime_type=\"text/x.enum\",\n",
    "        response_schema=Sentiment\n",
    "    ))\n",
    "\n",
    "response = model.generate_content(zero_shot_prompt, request_options=retry_policy)\n",
    "print(response.text)"
   ]
  },
  {
   "cell_type": "markdown",
   "id": "adaaf32b",
   "metadata": {
    "id": "0udiSwNbv45W",
    "papermill": {
     "duration": 0.012482,
     "end_time": "2024-11-24T05:20:33.724310",
     "exception": false,
     "start_time": "2024-11-24T05:20:33.711828",
     "status": "completed"
    },
    "tags": []
   },
   "source": [
    "### One-shot and few-shot\n",
    "\n",
    "Providing an example of the expected response is known as a \"one-shot\" prompt. When you provide multiple examples, it is a \"few-shot\" prompt.\n",
    "\n",
    "<table align=left>\n",
    "  <td>\n",
    "    <a target=\"_blank\" href=\"https://aistudio.google.com/prompts/1jjWkjUSoMXmLvMJ7IzADr_GxHPJVV2bg\"><img src=\"https://ai.google.dev/site-assets/images/marketing/home/icon-ais.png\" style=\"height: 24px\" height=24/> Open in AI Studio</a>\n",
    "  </td>\n",
    "</table>\n"
   ]
  },
  {
   "cell_type": "code",
   "execution_count": 19,
   "id": "ab204aa7",
   "metadata": {
    "execution": {
     "iopub.execute_input": "2024-11-24T05:20:33.752183Z",
     "iopub.status.busy": "2024-11-24T05:20:33.751243Z",
     "iopub.status.idle": "2024-11-24T05:20:35.156070Z",
     "shell.execute_reply": "2024-11-24T05:20:35.154987Z"
    },
    "id": "hd4mVUukwOKZ",
    "papermill": {
     "duration": 1.421767,
     "end_time": "2024-11-24T05:20:35.158684",
     "exception": false,
     "start_time": "2024-11-24T05:20:33.736917",
     "status": "completed"
    },
    "tags": []
   },
   "outputs": [
    {
     "name": "stdout",
     "output_type": "stream",
     "text": [
      "```json\n",
      "{\n",
      "  \"size\": \"large\",\n",
      "  \"type\": \"normal\",\n",
      "  \"ingredients\": [\"cheese\", \"pineapple\"]\n",
      "}\n",
      "```\n",
      "\n"
     ]
    }
   ],
   "source": [
    "model = genai.GenerativeModel(\n",
    "    'gemini-1.5-flash-latest',\n",
    "    generation_config=genai.GenerationConfig(\n",
    "        temperature=0.1,\n",
    "        top_p=1,\n",
    "        max_output_tokens=250,\n",
    "    ))\n",
    "\n",
    "few_shot_prompt = \"\"\"Parse a customer's pizza order into valid JSON:\n",
    "\n",
    "EXAMPLE:\n",
    "I want a small pizza with cheese, tomato sauce, and pepperoni.\n",
    "JSON Response:\n",
    "```\n",
    "{\n",
    "\"size\": \"small\",\n",
    "\"type\": \"normal\",\n",
    "\"ingredients\": [\"cheese\", \"tomato sauce\", \"peperoni\"]\n",
    "}\n",
    "```\n",
    "\n",
    "EXAMPLE:\n",
    "Can I get a large pizza with tomato sauce, basil and mozzarella\n",
    "JSON Response:\n",
    "```\n",
    "{\n",
    "\"size\": \"large\",\n",
    "\"type\": \"normal\",\n",
    "\"ingredients\": [\"tomato sauce\", \"basil\", \"mozzarella\"]\n",
    "}\n",
    "\n",
    "ORDER:\n",
    "\"\"\"\n",
    "\n",
    "customer_order = \"Give me a large with cheese & pineapple\"\n",
    "\n",
    "\n",
    "response = model.generate_content([few_shot_prompt, customer_order], request_options=retry_policy)\n",
    "print(response.text)"
   ]
  },
  {
   "cell_type": "markdown",
   "id": "bf214909",
   "metadata": {
    "id": "021293096f08",
    "papermill": {
     "duration": 0.012116,
     "end_time": "2024-11-24T05:20:35.183796",
     "exception": false,
     "start_time": "2024-11-24T05:20:35.171680",
     "status": "completed"
    },
    "tags": []
   },
   "source": [
    "#### JSON mode\n",
    "\n",
    "To provide control over the schema, and to ensure that you only receive JSON (with no other text or markdown), you can use the Gemini API's [JSON mode](https://github.com/google-gemini/cookbook/blob/main/quickstarts/JSON_mode.ipynb). This forces the model to constrain decoding, such that token selection is guided by the supplied schema."
   ]
  },
  {
   "cell_type": "code",
   "execution_count": 20,
   "id": "80c9eb36",
   "metadata": {
    "execution": {
     "iopub.execute_input": "2024-11-24T05:20:35.210617Z",
     "iopub.status.busy": "2024-11-24T05:20:35.210161Z",
     "iopub.status.idle": "2024-11-24T05:20:35.893818Z",
     "shell.execute_reply": "2024-11-24T05:20:35.892434Z"
    },
    "id": "50fbf0260912",
    "papermill": {
     "duration": 0.700069,
     "end_time": "2024-11-24T05:20:35.896311",
     "exception": false,
     "start_time": "2024-11-24T05:20:35.196242",
     "status": "completed"
    },
    "tags": []
   },
   "outputs": [
    {
     "name": "stdout",
     "output_type": "stream",
     "text": [
      "{\"ingredients\": [\"apple\", \"chocolate\"], \"size\": \"large\", \"type\": \"dessert pizza\"}\n"
     ]
    }
   ],
   "source": [
    "import typing_extensions as typing\n",
    "\n",
    "class PizzaOrder(typing.TypedDict):\n",
    "    size: str\n",
    "    ingredients: list[str]\n",
    "    type: str\n",
    "\n",
    "\n",
    "model = genai.GenerativeModel(\n",
    "    'gemini-1.5-flash-latest',\n",
    "    generation_config=genai.GenerationConfig(\n",
    "        temperature=0.1,\n",
    "        response_mime_type=\"application/json\",\n",
    "        response_schema=PizzaOrder,\n",
    "    ))\n",
    "\n",
    "response = model.generate_content(\"Can I have a large dessert pizza with apple and chocolate\")\n",
    "print(response.text)"
   ]
  },
  {
   "cell_type": "markdown",
   "id": "2b308cf6",
   "metadata": {
    "id": "4a93e338e57c",
    "papermill": {
     "duration": 0.012783,
     "end_time": "2024-11-24T05:20:35.921786",
     "exception": false,
     "start_time": "2024-11-24T05:20:35.909003",
     "status": "completed"
    },
    "tags": []
   },
   "source": [
    "### Chain of Thought (CoT)\n",
    "\n",
    "Direct prompting on LLMs can return answers quickly and (in terms of output token usage) efficiently, but they can be prone to hallucination. The answer may \"look\" correct (in terms of language and syntax) but is incorrect in terms of factuality and reasoning.\n",
    "\n",
    "Chain-of-Thought prompting is a technique where you instruct the model to output intermediate reasoning steps, and it typically gets better results, especially when combined with few-shot examples. It is worth noting that this technique doesn't completely eliminate hallucinations, and that it tends to cost more to run, due to the increased token count.\n",
    "\n",
    "As models like the Gemini family are trained to be \"chatty\" and provide reasoning steps, you can ask the model to be more direct in the prompt."
   ]
  },
  {
   "cell_type": "code",
   "execution_count": 21,
   "id": "be6df2bf",
   "metadata": {
    "execution": {
     "iopub.execute_input": "2024-11-24T05:20:35.949557Z",
     "iopub.status.busy": "2024-11-24T05:20:35.949127Z",
     "iopub.status.idle": "2024-11-24T05:20:37.359008Z",
     "shell.execute_reply": "2024-11-24T05:20:37.357589Z"
    },
    "id": "5715555db1c1",
    "papermill": {
     "duration": 1.427209,
     "end_time": "2024-11-24T05:20:37.361621",
     "exception": false,
     "start_time": "2024-11-24T05:20:35.934412",
     "status": "completed"
    },
    "tags": []
   },
   "outputs": [
    {
     "name": "stdout",
     "output_type": "stream",
     "text": [
      "47\n",
      "\n"
     ]
    }
   ],
   "source": [
    "prompt = \"\"\"When I was 4 years old, my partner was 3 times my age. Now, I\n",
    "am 20 years old. How old is my partner? Return the answer directly.\"\"\"\n",
    "\n",
    "model = genai.GenerativeModel('gemini-1.5-flash-latest')\n",
    "response = model.generate_content(prompt, request_options=retry_policy)\n",
    "\n",
    "print(response.text)"
   ]
  },
  {
   "cell_type": "markdown",
   "id": "e6acf499",
   "metadata": {
    "id": "e12b19677bfd",
    "papermill": {
     "duration": 0.012396,
     "end_time": "2024-11-24T05:20:37.387767",
     "exception": false,
     "start_time": "2024-11-24T05:20:37.375371",
     "status": "completed"
    },
    "tags": []
   },
   "source": [
    "Now try the same approach, but indicate to the model that it should \"think step by step\"."
   ]
  },
  {
   "cell_type": "code",
   "execution_count": 22,
   "id": "702ede68",
   "metadata": {
    "execution": {
     "iopub.execute_input": "2024-11-24T05:20:37.416712Z",
     "iopub.status.busy": "2024-11-24T05:20:37.415912Z",
     "iopub.status.idle": "2024-11-24T05:20:39.376097Z",
     "shell.execute_reply": "2024-11-24T05:20:39.374763Z"
    },
    "id": "ffd7536a481f",
    "papermill": {
     "duration": 1.978052,
     "end_time": "2024-11-24T05:20:39.378559",
     "exception": false,
     "start_time": "2024-11-24T05:20:37.400507",
     "status": "completed"
    },
    "tags": []
   },
   "outputs": [
    {
     "name": "stdout",
     "output_type": "stream",
     "text": [
      "Step 1: Find the partner's age when you were 4.\n",
      "\n",
      "* You were 4 years old, and your partner was three times your age, so your partner was 4 * 3 = 12 years old.\n",
      "\n",
      "Step 2: Find the age difference between you and your partner.\n",
      "\n",
      "* The age difference is 12 - 4 = 8 years.\n",
      "\n",
      "Step 3: Determine your partner's current age.\n",
      "\n",
      "* You are now 20 years old, and the age difference remains constant.  Therefore, your partner is currently 20 + 8 = 28 years old.\n",
      "\n",
      "\n",
      "So your partner is now $\\boxed{28}$ years old.\n",
      "\n"
     ]
    }
   ],
   "source": [
    "prompt = \"\"\"When I was 4 years old, my partner was 3 times my age. Now,\n",
    "I am 20 years old. How old is my partner? Let's think step by step.\"\"\"\n",
    "\n",
    "response = model.generate_content(prompt, request_options=retry_policy)\n",
    "print(response.text)"
   ]
  },
  {
   "cell_type": "markdown",
   "id": "8c50d156",
   "metadata": {
    "id": "oiLgBQJj0V53",
    "papermill": {
     "duration": 0.012655,
     "end_time": "2024-11-24T05:20:39.404509",
     "exception": false,
     "start_time": "2024-11-24T05:20:39.391854",
     "status": "completed"
    },
    "tags": []
   },
   "source": [
    "### ReAct: Reason and act\n",
    "\n",
    "In this example you will run a ReAct prompt directly in the Gemini API and perform the searching steps yourself. As this prompt follows a well-defined structure, there are frameworks available that wrap the prompt into easier-to-use APIs that make tool calls automatically, such as the LangChain example from the chapter.\n",
    "\n",
    "To try this out with the Wikipedia search engine, check out the [Searching Wikipedia with ReAct](https://github.com/google-gemini/cookbook/blob/main/examples/Search_Wikipedia_using_ReAct.ipynb) cookbook example.\n",
    "\n",
    "\n",
    "> Note: The prompt and in-context examples used here are from [https://github.com/ysymyth/ReAct](https://github.com/ysymyth/ReAct) which is published under a [MIT license](https://opensource.org/licenses/MIT), Copyright (c) 2023 Shunyu Yao.\n",
    "\n",
    "<table align=left>\n",
    "  <td>\n",
    "    <a target=\"_blank\" href=\"https://aistudio.google.com/prompts/18oo63Lwosd-bQ6Ay51uGogB3Wk3H8XMO\"><img src=\"https://ai.google.dev/site-assets/images/marketing/home/icon-ais.png\" style=\"height: 24px\" height=24/> Open in AI Studio</a>\n",
    "  </td>\n",
    "</table>\n"
   ]
  },
  {
   "cell_type": "code",
   "execution_count": 23,
   "id": "fa46c10a",
   "metadata": {
    "execution": {
     "iopub.execute_input": "2024-11-24T05:20:39.433843Z",
     "iopub.status.busy": "2024-11-24T05:20:39.432712Z",
     "iopub.status.idle": "2024-11-24T05:20:39.440394Z",
     "shell.execute_reply": "2024-11-24T05:20:39.439151Z"
    },
    "id": "cBgyNJ5z0VSs",
    "papermill": {
     "duration": 0.024465,
     "end_time": "2024-11-24T05:20:39.442658",
     "exception": false,
     "start_time": "2024-11-24T05:20:39.418193",
     "status": "completed"
    },
    "tags": []
   },
   "outputs": [],
   "source": [
    "model_instructions = \"\"\"\n",
    "Solve a question answering task with interleaving Thought, Action, Observation steps. Thought can reason about the current situation,\n",
    "Observation is understanding relevant information from an Action's output and Action can be one of three types:\n",
    " (1) <search>entity</search>, which searches the exact entity on Wikipedia and returns the first paragraph if it exists. If not, it\n",
    "     will return some similar entities to search and you can try to search the information from those topics.\n",
    " (2) <lookup>keyword</lookup>, which returns the next sentence containing keyword in the current context. This only does exact matches,\n",
    "     so keep your searches short.\n",
    " (3) <finish>answer</finish>, which returns the answer and finishes the task.\n",
    "\"\"\"\n",
    "\n",
    "example1 = \"\"\"Question\n",
    "Musician and satirist Allie Goertz wrote a song about the \"The Simpsons\" character Milhouse, who Matt Groening named after who?\n",
    "\n",
    "Thought 1\n",
    "The question simplifies to \"The Simpsons\" character Milhouse is named after who. I only need to search Milhouse and find who it is named after.\n",
    "\n",
    "Action 1\n",
    "<search>Milhouse</search>\n",
    "\n",
    "Observation 1\n",
    "Milhouse Mussolini Van Houten is a recurring character in the Fox animated television series The Simpsons voiced by Pamela Hayden and created by Matt Groening.\n",
    "\n",
    "Thought 2\n",
    "The paragraph does not tell who Milhouse is named after, maybe I can look up \"named after\".\n",
    "\n",
    "Action 2\n",
    "<lookup>named after</lookup>\n",
    "\n",
    "Observation 2\n",
    "Milhouse was named after U.S. president Richard Nixon, whose middle name was Milhous.\n",
    "\n",
    "Thought 3\n",
    "Milhouse was named after U.S. president Richard Nixon, so the answer is Richard Nixon.\n",
    "\n",
    "Action 3\n",
    "<finish>Richard Nixon</finish>\n",
    "\"\"\"\n",
    "\n",
    "example2 = \"\"\"Question\n",
    "What is the elevation range for the area that the eastern sector of the Colorado orogeny extends into?\n",
    "\n",
    "Thought 1\n",
    "I need to search Colorado orogeny, find the area that the eastern sector of the Colorado orogeny extends into, then find the elevation range of the area.\n",
    "\n",
    "Action 1\n",
    "<search>Colorado orogeny</search>\n",
    "\n",
    "Observation 1\n",
    "The Colorado orogeny was an episode of mountain building (an orogeny) in Colorado and surrounding areas.\n",
    "\n",
    "Thought 2\n",
    "It does not mention the eastern sector. So I need to look up eastern sector.\n",
    "\n",
    "Action 2\n",
    "<lookup>eastern sector</lookup>\n",
    "\n",
    "Observation 2\n",
    "The eastern sector extends into the High Plains and is called the Central Plains orogeny.\n",
    "\n",
    "Thought 3\n",
    "The eastern sector of Colorado orogeny extends into the High Plains. So I need to search High Plains and find its elevation range.\n",
    "\n",
    "Action 3\n",
    "<search>High Plains</search>\n",
    "\n",
    "Observation 3\n",
    "High Plains refers to one of two distinct land regions\n",
    "\n",
    "Thought 4\n",
    "I need to instead search High Plains (United States).\n",
    "\n",
    "Action 4\n",
    "<search>High Plains (United States)</search>\n",
    "\n",
    "Observation 4\n",
    "The High Plains are a subregion of the Great Plains. From east to west, the High Plains rise in elevation from around 1,800 to 7,000 ft (550 to 2,130m).\n",
    "\n",
    "Thought 5\n",
    "High Plains rise in elevation from around 1,800 to 7,000 ft, so the answer is 1,800 to 7,000 ft.\n",
    "\n",
    "Action 5\n",
    "<finish>1,800 to 7,000 ft</finish>\n",
    "\"\"\"\n",
    "\n",
    "# Come up with more examples yourself, or take a look through https://github.com/ysymyth/ReAct/"
   ]
  },
  {
   "cell_type": "markdown",
   "id": "7064e5bb",
   "metadata": {
    "id": "C3wbfstjTgey",
    "papermill": {
     "duration": 0.021553,
     "end_time": "2024-11-24T05:20:39.479297",
     "exception": false,
     "start_time": "2024-11-24T05:20:39.457744",
     "status": "completed"
    },
    "tags": []
   },
   "source": [
    "To capture a single step at a time, while ignoring any hallucinated Observation steps, you will use `stop_sequences` to end the generation process. The steps are `Thought`, `Action`, `Observation`, in that order."
   ]
  },
  {
   "cell_type": "code",
   "execution_count": 24,
   "id": "4961b733",
   "metadata": {
    "execution": {
     "iopub.execute_input": "2024-11-24T05:20:39.525993Z",
     "iopub.status.busy": "2024-11-24T05:20:39.524943Z",
     "iopub.status.idle": "2024-11-24T05:20:47.476146Z",
     "shell.execute_reply": "2024-11-24T05:20:47.474830Z"
    },
    "id": "8mxrXRkRTdXm",
    "papermill": {
     "duration": 7.980434,
     "end_time": "2024-11-24T05:20:47.478428",
     "exception": false,
     "start_time": "2024-11-24T05:20:39.497994",
     "status": "completed"
    },
    "tags": []
   },
   "outputs": [
    {
     "name": "stdout",
     "output_type": "stream",
     "text": [
      "Thought 1\n",
      "I need to find the Transformers NLP paper and then find the authors' ages to determine the youngest.  This will require searching for the paper and then likely some external research to find the authors' ages.\n",
      "\n",
      "Action 1\n",
      "<search>Transformers NLP paper</search>\n",
      "\n"
     ]
    }
   ],
   "source": [
    "question = \"\"\"Question\n",
    "Who was the youngest author listed on the transformers NLP paper?\n",
    "\"\"\"\n",
    "\n",
    "model = genai.GenerativeModel('gemini-1.5-flash-latest')\n",
    "react_chat = model.start_chat()\n",
    "\n",
    "# You will perform the Action, so generate up to, but not including, the Observation.\n",
    "config = genai.GenerationConfig(stop_sequences=[\"\\nObservation\"])\n",
    "\n",
    "resp = react_chat.send_message(\n",
    "    [model_instructions, example1, example2, question],\n",
    "    generation_config=config,\n",
    "    request_options=retry_policy)\n",
    "print(resp.text)"
   ]
  },
  {
   "cell_type": "markdown",
   "id": "8ce1323c",
   "metadata": {
    "id": "aW2PIdLbVv3l",
    "papermill": {
     "duration": 0.01475,
     "end_time": "2024-11-24T05:20:47.506331",
     "exception": false,
     "start_time": "2024-11-24T05:20:47.491581",
     "status": "completed"
    },
    "tags": []
   },
   "source": [
    "Now you can perform this research yourself and supply it back to the model."
   ]
  },
  {
   "cell_type": "code",
   "execution_count": 25,
   "id": "43c6306d",
   "metadata": {
    "execution": {
     "iopub.execute_input": "2024-11-24T05:20:47.534346Z",
     "iopub.status.busy": "2024-11-24T05:20:47.533881Z",
     "iopub.status.idle": "2024-11-24T05:21:30.972894Z",
     "shell.execute_reply": "2024-11-24T05:21:30.971584Z"
    },
    "id": "mLMc0DZaV9g2",
    "papermill": {
     "duration": 43.469155,
     "end_time": "2024-11-24T05:21:30.988661",
     "exception": false,
     "start_time": "2024-11-24T05:20:47.519506",
     "status": "completed"
    },
    "tags": []
   },
   "outputs": [
    {
     "name": "stdout",
     "output_type": "stream",
     "text": [
      "Thought 2\n",
      "The observation provides the authors of the paper \"Attention is All You Need.\"  I now need to find their ages. This will likely require multiple searches for each author.  I can start with the most likely candidates for being the youngest, perhaps focusing on those with less established careers suggested by their names.\n",
      "\n",
      "Action 2\n",
      "<search>Aidan N. Gomez age>\n",
      "\n",
      "\n"
     ]
    }
   ],
   "source": [
    "observation = \"\"\"Observation 1\n",
    "[1706.03762] Attention Is All You Need\n",
    "Ashish Vaswani, Noam Shazeer, Niki Parmar, Jakob Uszkoreit, Llion Jones, Aidan N. Gomez, Lukasz Kaiser, Illia Polosukhin\n",
    "We propose a new simple network architecture, the Transformer, based solely on attention mechanisms, dispensing with recurrence and convolutions entirely.\n",
    "\"\"\"\n",
    "resp = react_chat.send_message(observation, generation_config=config, request_options=retry_policy)\n",
    "print(resp.text)"
   ]
  },
  {
   "cell_type": "markdown",
   "id": "cad645a1",
   "metadata": {
    "id": "bo0tzf4nX6dA",
    "papermill": {
     "duration": 0.012863,
     "end_time": "2024-11-24T05:21:31.014520",
     "exception": false,
     "start_time": "2024-11-24T05:21:31.001657",
     "status": "completed"
    },
    "tags": []
   },
   "source": [
    "This process repeats until the `<finish>` action is reached. You can continue running this yourself if you like, or try the [Wikipedia example](https://github.com/google-gemini/cookbook/blob/main/examples/Search_Wikipedia_using_ReAct.ipynb) to see a fully automated ReAct system at work."
   ]
  },
  {
   "cell_type": "markdown",
   "id": "722f0c3f",
   "metadata": {
    "id": "jPiZ_eIIaVPt",
    "papermill": {
     "duration": 0.013085,
     "end_time": "2024-11-24T05:21:31.040897",
     "exception": false,
     "start_time": "2024-11-24T05:21:31.027812",
     "status": "completed"
    },
    "tags": []
   },
   "source": [
    "## Code prompting"
   ]
  },
  {
   "cell_type": "markdown",
   "id": "35e17e15",
   "metadata": {
    "id": "ZinKamwXeR6C",
    "papermill": {
     "duration": 0.012548,
     "end_time": "2024-11-24T05:21:31.066642",
     "exception": false,
     "start_time": "2024-11-24T05:21:31.054094",
     "status": "completed"
    },
    "tags": []
   },
   "source": [
    "### Generating code\n",
    "\n",
    "The Gemini family of models can be used to generate code, configuration and scripts. Generating code can be helpful when learning to code, learning a new language or for rapidly generating a first draft.\n",
    "\n",
    "It's important to be aware that since LLMs can't reason, and can repeat training data, it's essential to read and test your code first, and comply with any relevant licenses.\n",
    "\n",
    "<table align=left>\n",
    "  <td>\n",
    "    <a target=\"_blank\" href=\"https://aistudio.google.com/prompts/1YX71JGtzDjXQkgdes8bP6i3oH5lCRKxv\"><img src=\"https://ai.google.dev/site-assets/images/marketing/home/icon-ais.png\" style=\"height: 24px\" height=24/> Open in AI Studio</a>\n",
    "  </td>\n",
    "</table>"
   ]
  },
  {
   "cell_type": "code",
   "execution_count": 26,
   "id": "a3da4518",
   "metadata": {
    "execution": {
     "iopub.execute_input": "2024-11-24T05:21:31.094407Z",
     "iopub.status.busy": "2024-11-24T05:21:31.093817Z",
     "iopub.status.idle": "2024-11-24T05:21:32.386215Z",
     "shell.execute_reply": "2024-11-24T05:21:32.385154Z"
    },
    "id": "fOQP9pqmeUO1",
    "papermill": {
     "duration": 1.309154,
     "end_time": "2024-11-24T05:21:32.388546",
     "exception": false,
     "start_time": "2024-11-24T05:21:31.079392",
     "status": "completed"
    },
    "tags": []
   },
   "outputs": [
    {
     "data": {
      "text/markdown": [
       "```python\n",
       "def factorial(n):\n",
       "  if n == 0:\n",
       "    return 1\n",
       "  else:\n",
       "    return n * factorial(n-1)\n",
       "```\n"
      ],
      "text/plain": [
       "<IPython.core.display.Markdown object>"
      ]
     },
     "execution_count": 26,
     "metadata": {},
     "output_type": "execute_result"
    }
   ],
   "source": [
    "model = genai.GenerativeModel(\n",
    "    'gemini-1.5-flash-latest',\n",
    "    generation_config=genai.GenerationConfig(\n",
    "        temperature=1,\n",
    "        top_p=1,\n",
    "        max_output_tokens=1024,\n",
    "    ))\n",
    "\n",
    "# Gemini 1.5 models are very chatty, so it helps to specify they stick to the code.\n",
    "code_prompt = \"\"\"\n",
    "Write a Python function to calculate the factorial of a number. No explanation, provide only the code.\n",
    "\"\"\"\n",
    "\n",
    "response = model.generate_content(code_prompt, request_options=retry_policy)\n",
    "Markdown(response.text)"
   ]
  },
  {
   "cell_type": "markdown",
   "id": "62ebfb06",
   "metadata": {
    "id": "wlBMWSFhgVRQ",
    "papermill": {
     "duration": 0.012241,
     "end_time": "2024-11-24T05:21:32.414175",
     "exception": false,
     "start_time": "2024-11-24T05:21:32.401934",
     "status": "completed"
    },
    "tags": []
   },
   "source": [
    "### Code execution\n",
    "\n",
    "The Gemini API can automatically run generated code too, and will return the output.\n",
    "\n",
    "<table align=left>\n",
    "  <td>\n",
    "    <a target=\"_blank\" href=\"https://aistudio.google.com/prompts/11veFr_VYEwBWcLkhNLr-maCG0G8sS_7Z\"><img src=\"https://ai.google.dev/site-assets/images/marketing/home/icon-ais.png\" style=\"height: 24px\" height=24/> Open in AI Studio</a>\n",
    "  </td>\n",
    "</table>"
   ]
  },
  {
   "cell_type": "code",
   "execution_count": 27,
   "id": "7e04b8c8",
   "metadata": {
    "execution": {
     "iopub.execute_input": "2024-11-24T05:21:32.441981Z",
     "iopub.status.busy": "2024-11-24T05:21:32.441516Z",
     "iopub.status.idle": "2024-11-24T05:21:36.606068Z",
     "shell.execute_reply": "2024-11-24T05:21:36.604946Z"
    },
    "id": "jT3OfWYfhjRL",
    "papermill": {
     "duration": 4.181546,
     "end_time": "2024-11-24T05:21:36.608523",
     "exception": false,
     "start_time": "2024-11-24T05:21:32.426977",
     "status": "completed"
    },
    "tags": []
   },
   "outputs": [
    {
     "data": {
      "text/markdown": [
       "To calculate the sum of the first 14 odd prime numbers, I need to first identify the first 14 odd prime numbers.  2 is a prime number, but it's even, so we'll exclude it.\n",
       "\n",
       "I'll use Python to find these primes and calculate their sum.\n",
       "\n",
       "\n",
       "``` python\n",
       "def is_prime(n):\n",
       "    \"\"\"Checks if a number is prime.\"\"\"\n",
       "    if n <= 1:\n",
       "        return False\n",
       "    for i in range(2, int(n**0.5) + 1):\n",
       "        if n % i == 0:\n",
       "            return False\n",
       "    return True\n",
       "\n",
       "count = 0\n",
       "number = 1\n",
       "primes = []\n",
       "while count < 14:\n",
       "    number += 2  # Skip even numbers\n",
       "    if is_prime(number):\n",
       "        primes.append(number)\n",
       "        count += 1\n",
       "\n",
       "print(f'The first 14 odd prime numbers are: {primes}')\n",
       "print(f'Their sum is: {sum(primes)}')\n",
       "\n",
       "```\n",
       "```\n",
       "The first 14 odd prime numbers are: [3, 5, 7, 11, 13, 17, 19, 23, 29, 31, 37, 41, 43, 47]\n",
       "Their sum is: 326\n",
       "\n",
       "```\n",
       "Therefore, the sum of the first 14 odd prime numbers is 326.\n"
      ],
      "text/plain": [
       "<IPython.core.display.Markdown object>"
      ]
     },
     "execution_count": 27,
     "metadata": {},
     "output_type": "execute_result"
    }
   ],
   "source": [
    "model = genai.GenerativeModel(\n",
    "    'gemini-1.5-flash-latest',\n",
    "    tools='code_execution',)\n",
    "\n",
    "code_exec_prompt = \"\"\"\n",
    "Calculate the sum of the first 14 prime numbers. Only consider the odd primes, and make sure you count them all.\n",
    "\"\"\"\n",
    "\n",
    "response = model.generate_content(code_exec_prompt, request_options=retry_policy)\n",
    "Markdown(response.text)"
   ]
  },
  {
   "cell_type": "markdown",
   "id": "5eb62407",
   "metadata": {
    "id": "ZspT1GSkjG6d",
    "papermill": {
     "duration": 0.012946,
     "end_time": "2024-11-24T05:21:36.634771",
     "exception": false,
     "start_time": "2024-11-24T05:21:36.621825",
     "status": "completed"
    },
    "tags": []
   },
   "source": [
    "While this looks like a single-part response, you can inspect the response to see the each of the steps: initial text, code generation, execution results, and final text summary."
   ]
  },
  {
   "cell_type": "code",
   "execution_count": 28,
   "id": "f438cf22",
   "metadata": {
    "execution": {
     "iopub.execute_input": "2024-11-24T05:21:36.665217Z",
     "iopub.status.busy": "2024-11-24T05:21:36.664099Z",
     "iopub.status.idle": "2024-11-24T05:21:36.670695Z",
     "shell.execute_reply": "2024-11-24T05:21:36.669509Z"
    },
    "id": "j4gQVzcRjRX-",
    "papermill": {
     "duration": 0.026233,
     "end_time": "2024-11-24T05:21:36.674016",
     "exception": false,
     "start_time": "2024-11-24T05:21:36.647783",
     "status": "completed"
    },
    "tags": []
   },
   "outputs": [
    {
     "name": "stdout",
     "output_type": "stream",
     "text": [
      "text: \"To calculate the sum of the first 14 odd prime numbers, I need to first identify the first 14 odd prime numbers.  2 is a prime number, but it\\'s even, so we\\'ll exclude it.\\n\\nI\\'ll use Python to find these primes and calculate their sum.\\n\\n\"\n",
      "\n",
      "-----\n",
      "executable_code {\n",
      "  language: PYTHON\n",
      "  code: \"\\ndef is_prime(n):\\n    \\\"\\\"\\\"Checks if a number is prime.\\\"\\\"\\\"\\n    if n <= 1:\\n        return False\\n    for i in range(2, int(n**0.5) + 1):\\n        if n % i == 0:\\n            return False\\n    return True\\n\\ncount = 0\\nnumber = 1\\nprimes = []\\nwhile count < 14:\\n    number += 2  # Skip even numbers\\n    if is_prime(number):\\n        primes.append(number)\\n        count += 1\\n\\nprint(f\\'The first 14 odd prime numbers are: {primes}\\')\\nprint(f\\'Their sum is: {sum(primes)}\\')\\n\"\n",
      "}\n",
      "\n",
      "-----\n",
      "code_execution_result {\n",
      "  outcome: OUTCOME_OK\n",
      "  output: \"The first 14 odd prime numbers are: [3, 5, 7, 11, 13, 17, 19, 23, 29, 31, 37, 41, 43, 47]\\nTheir sum is: 326\\n\"\n",
      "}\n",
      "\n",
      "-----\n",
      "text: \"Therefore, the sum of the first 14 odd prime numbers is 326.\\n\"\n",
      "\n",
      "-----\n"
     ]
    }
   ],
   "source": [
    "for part in response.candidates[0].content.parts:\n",
    "  print(part)\n",
    "  print(\"-----\")"
   ]
  },
  {
   "cell_type": "markdown",
   "id": "176ee4dd",
   "metadata": {
    "id": "1gUX8QzCj4d5",
    "papermill": {
     "duration": 0.013265,
     "end_time": "2024-11-24T05:21:36.701639",
     "exception": false,
     "start_time": "2024-11-24T05:21:36.688374",
     "status": "completed"
    },
    "tags": []
   },
   "source": [
    "### Explaining code\n",
    "\n",
    "The Gemini family of models can explain code to you too.\n",
    "\n",
    "<table align=left>\n",
    "  <td>\n",
    "    <a target=\"_blank\" href=\"https://aistudio.google.com/prompts/1N7LGzWzCYieyOf_7bAG4plrmkpDNmUyb\"><img src=\"https://ai.google.dev/site-assets/images/marketing/home/icon-ais.png\" style=\"height: 24px\" height=24/> Open in AI Studio</a>\n",
    "  </td>\n",
    "</table>"
   ]
  },
  {
   "cell_type": "code",
   "execution_count": 29,
   "id": "3996fc7c",
   "metadata": {
    "execution": {
     "iopub.execute_input": "2024-11-24T05:21:36.731304Z",
     "iopub.status.busy": "2024-11-24T05:21:36.730148Z",
     "iopub.status.idle": "2024-11-24T05:21:40.933782Z",
     "shell.execute_reply": "2024-11-24T05:21:40.932744Z"
    },
    "id": "7_jPMMoxkIEb",
    "papermill": {
     "duration": 4.2209,
     "end_time": "2024-11-24T05:21:40.936095",
     "exception": false,
     "start_time": "2024-11-24T05:21:36.715195",
     "status": "completed"
    },
    "tags": []
   },
   "outputs": [
    {
     "data": {
      "text/markdown": [
       "This file is a bash script that enhances your terminal prompt to display information about your current Git repository.  Think of it as a Git status indicator built directly into your shell prompt.\n",
       "\n",
       "**What it does:**\n",
       "\n",
       "At a very high level, the script adds to your shell's prompt string (e.g., `PS1`) information like:\n",
       "\n",
       "* **Branch name:**  The current Git branch you're working on.\n",
       "* **Status indicators:**  Symbols indicating changes (added, modified, deleted files),  ahead/behind status compared to a remote branch, and merge conflicts.\n",
       "* **Optional information:**  Username and repository (remote URL), upstream branch status,  staged changes, untracked files, etc.  (These are configurable).\n",
       "* **Virtual environment indicator:** If you're using virtual environments (like `venv`, `conda`, or `nvm`), it adds an indicator to your prompt showing the active environment.\n",
       "\n",
       "The script does this by executing Git commands to get the status, cleverly parsing the output, and then constructing the enhanced prompt string.  It also handles themes for color-coding the output to improve readability.\n",
       "\n",
       "**Why you'd use it:**\n",
       "\n",
       "You'd use this script to improve your workflow when using Git.  Instead of constantly typing `git status`, you get a quick visual summary of your repository's state right in your prompt. This makes it much easier to:\n",
       "\n",
       "* **Monitor your work:** Quickly see what branch you're on and if you have uncommitted changes.\n",
       "* **Identify potential issues:** Immediately spot merge conflicts or other problems.\n",
       "* **Increase efficiency:** Reduce the number of times you need to explicitly check your Git status.\n",
       "\n",
       "The script offers numerous customization options, allowing you to tailor the displayed information and appearance to your preferences (themes, colors, symbols etc).\n"
      ],
      "text/plain": [
       "<IPython.core.display.Markdown object>"
      ]
     },
     "execution_count": 29,
     "metadata": {},
     "output_type": "execute_result"
    }
   ],
   "source": [
    "file_contents = !curl https://raw.githubusercontent.com/magicmonty/bash-git-prompt/refs/heads/master/gitprompt.sh\n",
    "\n",
    "explain_prompt = f\"\"\"\n",
    "Please explain what this file does at a very high level. What is it, and why would I use it?\n",
    "\n",
    "```\n",
    "{file_contents}\n",
    "```\n",
    "\"\"\"\n",
    "\n",
    "model = genai.GenerativeModel('gemini-1.5-flash-latest')\n",
    "\n",
    "response = model.generate_content(explain_prompt, request_options=retry_policy)\n",
    "Markdown(response.text)"
   ]
  },
  {
   "cell_type": "markdown",
   "id": "1f1c146f",
   "metadata": {
    "id": "2a8266d97ce5",
    "papermill": {
     "duration": 0.013052,
     "end_time": "2024-11-24T05:21:40.962833",
     "exception": false,
     "start_time": "2024-11-24T05:21:40.949781",
     "status": "completed"
    },
    "tags": []
   },
   "source": [
    "## Learn more\n",
    "\n",
    "To learn more about prompting in depth:\n",
    "\n",
    "* Check out the whitepaper issued with today's content,\n",
    "* Try out the apps listed at the top of this notebook ([TextFX](https://textfx.withgoogle.com/), [SQL Talk](https://sql-talk-r5gdynozbq-uc.a.run.app/) and [NotebookLM](https://notebooklm.google/)),\n",
    "* Read the [Introduction to Prompting](https://ai.google.dev/gemini-api/docs/prompting-intro) from the Gemini API docs,\n",
    "* Explore the Gemini API's [prompt gallery](https://ai.google.dev/gemini-api/prompts) and try them out in AI Studio,\n",
    "* Check out the Gemini API cookbook for [inspirational examples](https://github.com/google-gemini/cookbook/blob/main/examples/) and [educational quickstarts](https://github.com/google-gemini/cookbook/blob/main/quickstarts/).\n",
    "\n",
    "And please share anything exciting you have tried in the Discord!"
   ]
  }
 ],
 "metadata": {
  "colab": {
   "name": "day-1-prompting.ipynb",
   "toc_visible": true
  },
  "kaggle": {
   "accelerator": "none",
   "dataSources": [],
   "dockerImageVersionId": 30786,
   "isGpuEnabled": false,
   "isInternetEnabled": true,
   "language": "python",
   "sourceType": "notebook"
  },
  "kernelspec": {
   "display_name": "Python 3",
   "language": "python",
   "name": "python3"
  },
  "language_info": {
   "codemirror_mode": {
    "name": "ipython",
    "version": 3
   },
   "file_extension": ".py",
   "mimetype": "text/x-python",
   "name": "python",
   "nbconvert_exporter": "python",
   "pygments_lexer": "ipython3",
   "version": "3.10.14"
  },
  "papermill": {
   "default_parameters": {},
   "duration": 120.783667,
   "end_time": "2024-11-24T05:21:41.599656",
   "environment_variables": {},
   "exception": null,
   "input_path": "__notebook__.ipynb",
   "output_path": "__notebook__.ipynb",
   "parameters": {},
   "start_time": "2024-11-24T05:19:40.815989",
   "version": "2.6.0"
  }
 },
 "nbformat": 4,
 "nbformat_minor": 5
}
